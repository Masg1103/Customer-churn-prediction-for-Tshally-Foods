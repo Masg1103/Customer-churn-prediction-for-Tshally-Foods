{
 "cells": [
  {
   "cell_type": "code",
   "execution_count": 1,
   "id": "03948d4e",
   "metadata": {},
   "outputs": [],
   "source": [
    "#import libraries\n",
    "import numpy as np #linear algebra\n",
    "import pandas as pd\n",
    "import matplotlib.pyplot as plt\n",
    "%matplotlib inline\n",
    "import seaborn as sns\n",
    "import warnings\n",
    "#warnings.simplefilter(action='ignore', category=FutureWarning)\n",
    "warnings.filterwarnings('ignore')"
   ]
  },
  {
   "cell_type": "markdown",
   "id": "5bfd8a64",
   "metadata": {},
   "source": [
    "#### Exploratory Data Analysis (EDA)"
   ]
  },
  {
   "cell_type": "code",
   "execution_count": 2,
   "id": "b19d5420",
   "metadata": {},
   "outputs": [],
   "source": [
    "Customer_Churn = pd.read_csv('customers_delivery.csv')  # load data\n"
   ]
  },
  {
   "cell_type": "code",
   "execution_count": 3,
   "id": "fd895d4e",
   "metadata": {},
   "outputs": [
    {
     "data": {
      "text/html": [
       "<div>\n",
       "<style scoped>\n",
       "    .dataframe tbody tr th:only-of-type {\n",
       "        vertical-align: middle;\n",
       "    }\n",
       "\n",
       "    .dataframe tbody tr th {\n",
       "        vertical-align: top;\n",
       "    }\n",
       "\n",
       "    .dataframe thead th {\n",
       "        text-align: right;\n",
       "    }\n",
       "</style>\n",
       "<table border=\"1\" class=\"dataframe\">\n",
       "  <thead>\n",
       "    <tr style=\"text-align: right;\">\n",
       "      <th></th>\n",
       "      <th>Age</th>\n",
       "      <th>Gender</th>\n",
       "      <th>Marital Status</th>\n",
       "      <th>Occupation</th>\n",
       "      <th>Monthly Income</th>\n",
       "      <th>Educational Qualifications</th>\n",
       "      <th>Family size</th>\n",
       "      <th>Location</th>\n",
       "      <th>Medium</th>\n",
       "      <th>Oatmeal-1kg</th>\n",
       "      <th>...</th>\n",
       "      <th>Order Time</th>\n",
       "      <th>Google Maps Accuracy</th>\n",
       "      <th>Influence of rating</th>\n",
       "      <th>Packaging_Quality</th>\n",
       "      <th>Politeness</th>\n",
       "      <th>Freshness</th>\n",
       "      <th>Good Taste</th>\n",
       "      <th>Good Quantity</th>\n",
       "      <th>Output</th>\n",
       "      <th>Reviews</th>\n",
       "    </tr>\n",
       "  </thead>\n",
       "  <tbody>\n",
       "    <tr>\n",
       "      <th>0</th>\n",
       "      <td>20</td>\n",
       "      <td>Female</td>\n",
       "      <td>Married</td>\n",
       "      <td>Employeed</td>\n",
       "      <td>&gt;200000</td>\n",
       "      <td>Post Graduate</td>\n",
       "      <td>4</td>\n",
       "      <td>Lagos</td>\n",
       "      <td>Supermarkets</td>\n",
       "      <td>Yes</td>\n",
       "      <td>...</td>\n",
       "      <td>Weekend (Sat &amp; Sun)</td>\n",
       "      <td>Neutral</td>\n",
       "      <td>Yes</td>\n",
       "      <td>Moderately Important</td>\n",
       "      <td>Moderately Important</td>\n",
       "      <td>Moderately Important</td>\n",
       "      <td>Moderately Important</td>\n",
       "      <td>Moderately Important</td>\n",
       "      <td>Yes</td>\n",
       "      <td>Nil\\r\\n</td>\n",
       "    </tr>\n",
       "    <tr>\n",
       "      <th>1</th>\n",
       "      <td>24</td>\n",
       "      <td>Female</td>\n",
       "      <td>Married</td>\n",
       "      <td>Employeed</td>\n",
       "      <td>&gt;200000</td>\n",
       "      <td>Graduate</td>\n",
       "      <td>3</td>\n",
       "      <td>Lagos</td>\n",
       "      <td>Supermarkets</td>\n",
       "      <td>Yes</td>\n",
       "      <td>...</td>\n",
       "      <td>Anytime (Mon-Sun)</td>\n",
       "      <td>Neutral</td>\n",
       "      <td>Yes</td>\n",
       "      <td>Very Important</td>\n",
       "      <td>Very Important</td>\n",
       "      <td>Very Important</td>\n",
       "      <td>Very Important</td>\n",
       "      <td>Very Important</td>\n",
       "      <td>Yes</td>\n",
       "      <td>Nil</td>\n",
       "    </tr>\n",
       "    <tr>\n",
       "      <th>2</th>\n",
       "      <td>22</td>\n",
       "      <td>Male</td>\n",
       "      <td>Married</td>\n",
       "      <td>Employeed</td>\n",
       "      <td>&gt;200000</td>\n",
       "      <td>Post Graduate</td>\n",
       "      <td>3</td>\n",
       "      <td>Lagos</td>\n",
       "      <td>Supermarkets</td>\n",
       "      <td>Yes</td>\n",
       "      <td>...</td>\n",
       "      <td>Anytime (Mon-Sun)</td>\n",
       "      <td>Strongly Agree</td>\n",
       "      <td>Yes</td>\n",
       "      <td>Very Important</td>\n",
       "      <td>Very Important</td>\n",
       "      <td>Very Important</td>\n",
       "      <td>Very Important</td>\n",
       "      <td>Moderately Important</td>\n",
       "      <td>Yes</td>\n",
       "      <td>Many a times payment gateways are an issue, so...</td>\n",
       "    </tr>\n",
       "    <tr>\n",
       "      <th>3</th>\n",
       "      <td>22</td>\n",
       "      <td>Female</td>\n",
       "      <td>Married</td>\n",
       "      <td>Employeed</td>\n",
       "      <td>&gt;200000</td>\n",
       "      <td>Graduate</td>\n",
       "      <td>6</td>\n",
       "      <td>Lagos</td>\n",
       "      <td>Supermarkets</td>\n",
       "      <td>Yes</td>\n",
       "      <td>...</td>\n",
       "      <td>Anytime (Mon-Sun)</td>\n",
       "      <td>Agree</td>\n",
       "      <td>Yes</td>\n",
       "      <td>Important</td>\n",
       "      <td>Very Important</td>\n",
       "      <td>Very Important</td>\n",
       "      <td>Very Important</td>\n",
       "      <td>Important</td>\n",
       "      <td>Yes</td>\n",
       "      <td>nil</td>\n",
       "    </tr>\n",
       "    <tr>\n",
       "      <th>4</th>\n",
       "      <td>22</td>\n",
       "      <td>Male</td>\n",
       "      <td>Married</td>\n",
       "      <td>Employeed</td>\n",
       "      <td>&gt;200000</td>\n",
       "      <td>Post Graduate</td>\n",
       "      <td>4</td>\n",
       "      <td>Lagos</td>\n",
       "      <td>Direct call</td>\n",
       "      <td>Yes</td>\n",
       "      <td>...</td>\n",
       "      <td>Weekend (Sat &amp; Sun)</td>\n",
       "      <td>Agree</td>\n",
       "      <td>Yes</td>\n",
       "      <td>Important</td>\n",
       "      <td>Important</td>\n",
       "      <td>Important</td>\n",
       "      <td>Very Important</td>\n",
       "      <td>Very Important</td>\n",
       "      <td>Yes</td>\n",
       "      <td>NIL</td>\n",
       "    </tr>\n",
       "    <tr>\n",
       "      <th>...</th>\n",
       "      <td>...</td>\n",
       "      <td>...</td>\n",
       "      <td>...</td>\n",
       "      <td>...</td>\n",
       "      <td>...</td>\n",
       "      <td>...</td>\n",
       "      <td>...</td>\n",
       "      <td>...</td>\n",
       "      <td>...</td>\n",
       "      <td>...</td>\n",
       "      <td>...</td>\n",
       "      <td>...</td>\n",
       "      <td>...</td>\n",
       "      <td>...</td>\n",
       "      <td>...</td>\n",
       "      <td>...</td>\n",
       "      <td>...</td>\n",
       "      <td>...</td>\n",
       "      <td>...</td>\n",
       "      <td>...</td>\n",
       "      <td>...</td>\n",
       "    </tr>\n",
       "    <tr>\n",
       "      <th>383</th>\n",
       "      <td>23</td>\n",
       "      <td>Female</td>\n",
       "      <td>Single</td>\n",
       "      <td>Student</td>\n",
       "      <td>&lt;50000</td>\n",
       "      <td>Post Graduate</td>\n",
       "      <td>2</td>\n",
       "      <td>Sapele</td>\n",
       "      <td>Jumia</td>\n",
       "      <td>Yes</td>\n",
       "      <td>...</td>\n",
       "      <td>Anytime (Mon-Sun)</td>\n",
       "      <td>Disagree</td>\n",
       "      <td>Maybe</td>\n",
       "      <td>Important</td>\n",
       "      <td>Important</td>\n",
       "      <td>Important</td>\n",
       "      <td>Important</td>\n",
       "      <td>Important</td>\n",
       "      <td>Yes</td>\n",
       "      <td>Nil</td>\n",
       "    </tr>\n",
       "    <tr>\n",
       "      <th>384</th>\n",
       "      <td>23</td>\n",
       "      <td>Female</td>\n",
       "      <td>Single</td>\n",
       "      <td>Student</td>\n",
       "      <td>&lt;50000</td>\n",
       "      <td>Post Graduate</td>\n",
       "      <td>4</td>\n",
       "      <td>Sapele</td>\n",
       "      <td>Jumia</td>\n",
       "      <td>Yes</td>\n",
       "      <td>...</td>\n",
       "      <td>Weekend (Sat &amp; Sun)</td>\n",
       "      <td>Agree</td>\n",
       "      <td>Yes</td>\n",
       "      <td>Very Important</td>\n",
       "      <td>Moderately Important</td>\n",
       "      <td>Moderately Important</td>\n",
       "      <td>Very Important</td>\n",
       "      <td>Very Important</td>\n",
       "      <td>Yes</td>\n",
       "      <td>Nil</td>\n",
       "    </tr>\n",
       "    <tr>\n",
       "      <th>385</th>\n",
       "      <td>22</td>\n",
       "      <td>Female</td>\n",
       "      <td>Single</td>\n",
       "      <td>Student</td>\n",
       "      <td>&lt;50000</td>\n",
       "      <td>Post Graduate</td>\n",
       "      <td>5</td>\n",
       "      <td>Enugu</td>\n",
       "      <td>Jumia</td>\n",
       "      <td>Yes</td>\n",
       "      <td>...</td>\n",
       "      <td>Anytime (Mon-Sun)</td>\n",
       "      <td>Agree</td>\n",
       "      <td>Yes</td>\n",
       "      <td>Very Important</td>\n",
       "      <td>Important</td>\n",
       "      <td>Very Important</td>\n",
       "      <td>Very Important</td>\n",
       "      <td>Very Important</td>\n",
       "      <td>Yes</td>\n",
       "      <td>Nil</td>\n",
       "    </tr>\n",
       "    <tr>\n",
       "      <th>386</th>\n",
       "      <td>23</td>\n",
       "      <td>Male</td>\n",
       "      <td>Single</td>\n",
       "      <td>Student</td>\n",
       "      <td>&lt;50000</td>\n",
       "      <td>Post Graduate</td>\n",
       "      <td>2</td>\n",
       "      <td>Enugu</td>\n",
       "      <td>Supermarkets</td>\n",
       "      <td>Yes</td>\n",
       "      <td>...</td>\n",
       "      <td>Weekend (Sat &amp; Sun)</td>\n",
       "      <td>Disagree</td>\n",
       "      <td>Yes</td>\n",
       "      <td>Very Important</td>\n",
       "      <td>Very Important</td>\n",
       "      <td>Very Important</td>\n",
       "      <td>Very Important</td>\n",
       "      <td>Very Important</td>\n",
       "      <td>Yes</td>\n",
       "      <td>Language barrier is also one major issue. Mosl...</td>\n",
       "    </tr>\n",
       "    <tr>\n",
       "      <th>387</th>\n",
       "      <td>23</td>\n",
       "      <td>Male</td>\n",
       "      <td>Single</td>\n",
       "      <td>Student</td>\n",
       "      <td>&lt;50000</td>\n",
       "      <td>Post Graduate</td>\n",
       "      <td>5</td>\n",
       "      <td>Enugu</td>\n",
       "      <td>Direct call</td>\n",
       "      <td>Yes</td>\n",
       "      <td>...</td>\n",
       "      <td>Weekend (Sat &amp; Sun)</td>\n",
       "      <td>Agree</td>\n",
       "      <td>Maybe</td>\n",
       "      <td>Unimportant</td>\n",
       "      <td>Moderately Important</td>\n",
       "      <td>Moderately Important</td>\n",
       "      <td>Moderately Important</td>\n",
       "      <td>Slightly Important</td>\n",
       "      <td>Yes</td>\n",
       "      <td>Nil</td>\n",
       "    </tr>\n",
       "  </tbody>\n",
       "</table>\n",
       "<p>388 rows × 35 columns</p>\n",
       "</div>"
      ],
      "text/plain": [
       "     Age  Gender Marital Status Occupation Monthly Income  \\\n",
       "0     20  Female        Married  Employeed        >200000   \n",
       "1     24  Female        Married  Employeed        >200000   \n",
       "2     22    Male        Married  Employeed        >200000   \n",
       "3     22  Female        Married  Employeed        >200000   \n",
       "4     22    Male        Married  Employeed        >200000   \n",
       "..   ...     ...            ...        ...            ...   \n",
       "383   23  Female         Single    Student         <50000   \n",
       "384   23  Female         Single    Student         <50000   \n",
       "385   22  Female         Single    Student         <50000   \n",
       "386   23    Male         Single    Student         <50000   \n",
       "387   23    Male         Single    Student         <50000   \n",
       "\n",
       "    Educational Qualifications  Family size Location        Medium  \\\n",
       "0                Post Graduate            4    Lagos  Supermarkets   \n",
       "1                     Graduate            3    Lagos  Supermarkets   \n",
       "2                Post Graduate            3    Lagos  Supermarkets   \n",
       "3                     Graduate            6    Lagos  Supermarkets   \n",
       "4                Post Graduate            4    Lagos   Direct call   \n",
       "..                         ...          ...      ...           ...   \n",
       "383              Post Graduate            2   Sapele         Jumia   \n",
       "384              Post Graduate            4   Sapele         Jumia   \n",
       "385              Post Graduate            5    Enugu         Jumia   \n",
       "386              Post Graduate            2    Enugu  Supermarkets   \n",
       "387              Post Graduate            5    Enugu   Direct call   \n",
       "\n",
       "    Oatmeal-1kg  ...           Order Time Google Maps Accuracy  \\\n",
       "0           Yes  ...  Weekend (Sat & Sun)              Neutral   \n",
       "1           Yes  ...    Anytime (Mon-Sun)              Neutral   \n",
       "2           Yes  ...    Anytime (Mon-Sun)       Strongly Agree   \n",
       "3           Yes  ...    Anytime (Mon-Sun)                Agree   \n",
       "4           Yes  ...  Weekend (Sat & Sun)                Agree   \n",
       "..          ...  ...                  ...                  ...   \n",
       "383         Yes  ...    Anytime (Mon-Sun)             Disagree   \n",
       "384         Yes  ...  Weekend (Sat & Sun)                Agree   \n",
       "385         Yes  ...    Anytime (Mon-Sun)                Agree   \n",
       "386         Yes  ...  Weekend (Sat & Sun)             Disagree   \n",
       "387         Yes  ...  Weekend (Sat & Sun)                Agree   \n",
       "\n",
       "    Influence of rating     Packaging_Quality            Politeness  \\\n",
       "0                   Yes  Moderately Important  Moderately Important   \n",
       "1                   Yes        Very Important        Very Important   \n",
       "2                   Yes        Very Important        Very Important   \n",
       "3                   Yes             Important        Very Important   \n",
       "4                   Yes             Important             Important   \n",
       "..                  ...                   ...                   ...   \n",
       "383               Maybe             Important             Important   \n",
       "384                 Yes        Very Important  Moderately Important   \n",
       "385                 Yes        Very Important             Important   \n",
       "386                 Yes        Very Important        Very Important   \n",
       "387               Maybe           Unimportant  Moderately Important   \n",
       "\n",
       "                Freshness           Good Taste          Good Quantity Output  \\\n",
       "0    Moderately Important  Moderately Important  Moderately Important    Yes   \n",
       "1          Very Important        Very Important        Very Important    Yes   \n",
       "2          Very Important        Very Important  Moderately Important    Yes   \n",
       "3          Very Important        Very Important             Important    Yes   \n",
       "4               Important        Very Important        Very Important    Yes   \n",
       "..                    ...                   ...                   ...    ...   \n",
       "383             Important             Important             Important    Yes   \n",
       "384  Moderately Important        Very Important        Very Important    Yes   \n",
       "385        Very Important        Very Important        Very Important    Yes   \n",
       "386        Very Important        Very Important        Very Important    Yes   \n",
       "387  Moderately Important  Moderately Important    Slightly Important    Yes   \n",
       "\n",
       "                                               Reviews  \n",
       "0                                              Nil\\r\\n  \n",
       "1                                                  Nil  \n",
       "2    Many a times payment gateways are an issue, so...  \n",
       "3                                                  nil  \n",
       "4                                                  NIL  \n",
       "..                                                 ...  \n",
       "383                                                Nil  \n",
       "384                                                Nil  \n",
       "385                                                Nil  \n",
       "386  Language barrier is also one major issue. Mosl...  \n",
       "387                                                Nil  \n",
       "\n",
       "[388 rows x 35 columns]"
      ]
     },
     "execution_count": 3,
     "metadata": {},
     "output_type": "execute_result"
    }
   ],
   "source": [
    "Customer_Churn"
   ]
  },
  {
   "cell_type": "code",
   "execution_count": 4,
   "id": "924e7937",
   "metadata": {},
   "outputs": [
    {
     "data": {
      "text/plain": [
       "(388, 35)"
      ]
     },
     "execution_count": 4,
     "metadata": {},
     "output_type": "execute_result"
    }
   ],
   "source": [
    "#check numbe of columns and rows\n",
    "Customer_Churn .shape"
   ]
  },
  {
   "cell_type": "code",
   "execution_count": 5,
   "id": "cfef7fb3",
   "metadata": {},
   "outputs": [
    {
     "data": {
      "text/plain": [
       "5"
      ]
     },
     "execution_count": 5,
     "metadata": {},
     "output_type": "execute_result"
    }
   ],
   "source": [
    "Customer_Churn.duplicated().sum() # check for duplication"
   ]
  },
  {
   "cell_type": "code",
   "execution_count": 6,
   "id": "5b72518d",
   "metadata": {},
   "outputs": [],
   "source": [
    "#drop the duplicated rows\n",
    "Customer_Churn = Customer_Churn.drop_duplicates()"
   ]
  },
  {
   "cell_type": "code",
   "execution_count": 7,
   "id": "1277ca9e",
   "metadata": {},
   "outputs": [
    {
     "data": {
      "text/plain": [
       "0"
      ]
     },
     "execution_count": 7,
     "metadata": {},
     "output_type": "execute_result"
    }
   ],
   "source": [
    "#perform sanity checks\n",
    "Customer_Churn.duplicated().sum()\n"
   ]
  },
  {
   "cell_type": "code",
   "execution_count": 8,
   "id": "3c674edb",
   "metadata": {},
   "outputs": [],
   "source": [
    "import pandas as pd\n",
    "\n",
    "# Replace spaces with underscores in column names\n",
    "Customer_Churn.columns = Customer_Churn.columns.str.replace(' ', '_')"
   ]
  },
  {
   "cell_type": "code",
   "execution_count": 9,
   "id": "5c177f74",
   "metadata": {},
   "outputs": [
    {
     "data": {
      "text/plain": [
       "Index(['Age', 'Gender', 'Marital_Status', 'Occupation', 'Monthly_Income',\n",
       "       'Educational_Qualifications', 'Family_size', 'Location', 'Medium',\n",
       "       'Oatmeal-1kg', 'Oatmeal-2kg', 'Oatmeal-5kg', 'Fonio-1kg', 'Garri-1kg',\n",
       "       'Plantain_Chips_-1kg', 'Buying_Convenience', 'Easy_Payment_option',\n",
       "       'Discount_Opinons', 'Product_Quality', 'Health_Concern',\n",
       "       'Prompt_Delivery', 'Delivery_Experince', 'Affordability',\n",
       "       'Accessibility', 'Time_Importance', 'Order_Time',\n",
       "       'Google_Maps_Accuracy', 'Influence_of_rating', 'Packaging_Quality',\n",
       "       'Politeness', 'Freshness', 'Good_Taste_', 'Good_Quantity', 'Output',\n",
       "       'Reviews'],\n",
       "      dtype='object')"
      ]
     },
     "execution_count": 9,
     "metadata": {},
     "output_type": "execute_result"
    }
   ],
   "source": [
    "# sanity check\n",
    "Customer_Churn.columns"
   ]
  },
  {
   "cell_type": "code",
   "execution_count": 10,
   "id": "62598043",
   "metadata": {},
   "outputs": [
    {
     "data": {
      "text/plain": [
       "Age                           0\n",
       "Gender                        0\n",
       "Marital_Status                0\n",
       "Occupation                    0\n",
       "Monthly_Income                0\n",
       "Educational_Qualifications    0\n",
       "Family_size                   0\n",
       "Location                      0\n",
       "Medium                        0\n",
       "Oatmeal-1kg                   0\n",
       "Oatmeal-2kg                   0\n",
       "Oatmeal-5kg                   0\n",
       "Fonio-1kg                     1\n",
       "Garri-1kg                     0\n",
       "Plantain_Chips_-1kg           0\n",
       "Buying_Convenience            0\n",
       "Easy_Payment_option           0\n",
       "Discount_Opinons              0\n",
       "Product_Quality               0\n",
       "Health_Concern                0\n",
       "Prompt_Delivery               0\n",
       "Delivery_Experince            0\n",
       "Affordability                 0\n",
       "Accessibility                 0\n",
       "Time_Importance               0\n",
       "Order_Time                    0\n",
       "Google_Maps_Accuracy          0\n",
       "Influence_of_rating           0\n",
       "Packaging_Quality             0\n",
       "Politeness                    0\n",
       "Freshness                     0\n",
       "Good_Taste_                   0\n",
       "Good_Quantity                 0\n",
       "Output                        0\n",
       "Reviews                       1\n",
       "dtype: int64"
      ]
     },
     "execution_count": 10,
     "metadata": {},
     "output_type": "execute_result"
    }
   ],
   "source": [
    "#check null null value\n",
    "Customer_Churn.isna().sum()"
   ]
  },
  {
   "cell_type": "code",
   "execution_count": 11,
   "id": "22fd5a34",
   "metadata": {},
   "outputs": [],
   "source": [
    "#drop the NAN value since it is only one and will not impact the data much\n",
    "Customer_Churn.dropna(inplace = True)"
   ]
  },
  {
   "cell_type": "code",
   "execution_count": 12,
   "id": "b68158b6",
   "metadata": {},
   "outputs": [
    {
     "data": {
      "text/plain": [
       "Age                           0\n",
       "Gender                        0\n",
       "Marital_Status                0\n",
       "Occupation                    0\n",
       "Monthly_Income                0\n",
       "Educational_Qualifications    0\n",
       "Family_size                   0\n",
       "Location                      0\n",
       "Medium                        0\n",
       "Oatmeal-1kg                   0\n",
       "Oatmeal-2kg                   0\n",
       "Oatmeal-5kg                   0\n",
       "Fonio-1kg                     0\n",
       "Garri-1kg                     0\n",
       "Plantain_Chips_-1kg           0\n",
       "Buying_Convenience            0\n",
       "Easy_Payment_option           0\n",
       "Discount_Opinons              0\n",
       "Product_Quality               0\n",
       "Health_Concern                0\n",
       "Prompt_Delivery               0\n",
       "Delivery_Experince            0\n",
       "Affordability                 0\n",
       "Accessibility                 0\n",
       "Time_Importance               0\n",
       "Order_Time                    0\n",
       "Google_Maps_Accuracy          0\n",
       "Influence_of_rating           0\n",
       "Packaging_Quality             0\n",
       "Politeness                    0\n",
       "Freshness                     0\n",
       "Good_Taste_                   0\n",
       "Good_Quantity                 0\n",
       "Output                        0\n",
       "Reviews                       0\n",
       "dtype: int64"
      ]
     },
     "execution_count": 12,
     "metadata": {},
     "output_type": "execute_result"
    }
   ],
   "source": [
    "#sanity check\n",
    "Customer_Churn.isna().sum()"
   ]
  },
  {
   "cell_type": "markdown",
   "id": "0c0fcc08",
   "metadata": {},
   "source": [
    "- No Nan value remaining"
   ]
  },
  {
   "cell_type": "code",
   "execution_count": 13,
   "id": "7405b35e",
   "metadata": {},
   "outputs": [
    {
     "data": {
      "text/plain": [
       "array(['>200000', '<50000', '<200000', '>100000'], dtype=object)"
      ]
     },
     "execution_count": 13,
     "metadata": {},
     "output_type": "execute_result"
    }
   ],
   "source": [
    "#observe the target variable Monthly_income\n",
    "Customer_Churn['Monthly_Income'].unique()"
   ]
  },
  {
   "cell_type": "code",
   "execution_count": 14,
   "id": "e9cc06f5",
   "metadata": {},
   "outputs": [
    {
     "data": {
      "text/plain": [
       "Age                            int64\n",
       "Gender                        object\n",
       "Marital_Status                object\n",
       "Occupation                    object\n",
       "Monthly_Income                object\n",
       "Educational_Qualifications    object\n",
       "Family_size                    int64\n",
       "Location                      object\n",
       "Medium                        object\n",
       "Oatmeal-1kg                   object\n",
       "Oatmeal-2kg                   object\n",
       "Oatmeal-5kg                   object\n",
       "Fonio-1kg                     object\n",
       "Garri-1kg                     object\n",
       "Plantain_Chips_-1kg           object\n",
       "Buying_Convenience            object\n",
       "Easy_Payment_option           object\n",
       "Discount_Opinons              object\n",
       "Product_Quality               object\n",
       "Health_Concern                object\n",
       "Prompt_Delivery               object\n",
       "Delivery_Experince            object\n",
       "Affordability                 object\n",
       "Accessibility                 object\n",
       "Time_Importance               object\n",
       "Order_Time                    object\n",
       "Google_Maps_Accuracy          object\n",
       "Influence_of_rating           object\n",
       "Packaging_Quality             object\n",
       "Politeness                    object\n",
       "Freshness                     object\n",
       "Good_Taste_                   object\n",
       "Good_Quantity                 object\n",
       "Output                        object\n",
       "Reviews                       object\n",
       "dtype: object"
      ]
     },
     "execution_count": 14,
     "metadata": {},
     "output_type": "execute_result"
    }
   ],
   "source": [
    "#check datatype for all the columns\n",
    "Customer_Churn.dtypes"
   ]
  },
  {
   "cell_type": "code",
   "execution_count": 15,
   "id": "307d0845",
   "metadata": {},
   "outputs": [],
   "source": [
    "target_mapping = {'<50000':0,'>100000':1,'<200000':2,'>200000':3}\n",
    "Customer_Churn['Monthly_Income'] = Customer_Churn['Monthly_Income'].map(target_mapping)"
   ]
  },
  {
   "cell_type": "code",
   "execution_count": 16,
   "id": "0659e60a",
   "metadata": {},
   "outputs": [
    {
     "data": {
      "text/plain": [
       "array([3, 0, 2, 1], dtype=int64)"
      ]
     },
     "execution_count": 16,
     "metadata": {},
     "output_type": "execute_result"
    }
   ],
   "source": [
    "#sanity check on the Monthly_Income column\n",
    "Customer_Churn['Monthly_Income'].unique()"
   ]
  },
  {
   "cell_type": "code",
   "execution_count": 17,
   "id": "8ae1db7f",
   "metadata": {},
   "outputs": [
    {
     "data": {
      "text/plain": [
       "Index(['Age', 'Gender', 'Marital_Status', 'Occupation', 'Monthly_Income',\n",
       "       'Educational_Qualifications', 'Family_size', 'Location', 'Medium',\n",
       "       'Oatmeal-1kg', 'Oatmeal-2kg', 'Oatmeal-5kg', 'Fonio-1kg', 'Garri-1kg',\n",
       "       'Plantain_Chips_-1kg', 'Buying_Convenience', 'Easy_Payment_option',\n",
       "       'Discount_Opinons', 'Product_Quality', 'Health_Concern',\n",
       "       'Prompt_Delivery', 'Delivery_Experince', 'Affordability',\n",
       "       'Accessibility', 'Time_Importance', 'Order_Time',\n",
       "       'Google_Maps_Accuracy', 'Influence_of_rating', 'Packaging_Quality',\n",
       "       'Politeness', 'Freshness', 'Good_Taste_', 'Good_Quantity', 'Output',\n",
       "       'Reviews'],\n",
       "      dtype='object')"
      ]
     },
     "execution_count": 17,
     "metadata": {},
     "output_type": "execute_result"
    }
   ],
   "source": [
    "Customer_Churn.columns"
   ]
  },
  {
   "cell_type": "code",
   "execution_count": 18,
   "id": "680f52b2",
   "metadata": {},
   "outputs": [
    {
     "name": "stdout",
     "output_type": "stream",
     "text": [
      "<class 'pandas.core.frame.DataFrame'>\n",
      "Index: 381 entries, 0 to 387\n",
      "Data columns (total 35 columns):\n",
      " #   Column                      Non-Null Count  Dtype \n",
      "---  ------                      --------------  ----- \n",
      " 0   Age                         381 non-null    int64 \n",
      " 1   Gender                      381 non-null    object\n",
      " 2   Marital_Status              381 non-null    object\n",
      " 3   Occupation                  381 non-null    object\n",
      " 4   Monthly_Income              381 non-null    int64 \n",
      " 5   Educational_Qualifications  381 non-null    object\n",
      " 6   Family_size                 381 non-null    int64 \n",
      " 7   Location                    381 non-null    object\n",
      " 8   Medium                      381 non-null    object\n",
      " 9   Oatmeal-1kg                 381 non-null    object\n",
      " 10  Oatmeal-2kg                 381 non-null    object\n",
      " 11  Oatmeal-5kg                 381 non-null    object\n",
      " 12  Fonio-1kg                   381 non-null    object\n",
      " 13  Garri-1kg                   381 non-null    object\n",
      " 14  Plantain_Chips_-1kg         381 non-null    object\n",
      " 15  Buying_Convenience          381 non-null    object\n",
      " 16  Easy_Payment_option         381 non-null    object\n",
      " 17  Discount_Opinons            381 non-null    object\n",
      " 18  Product_Quality             381 non-null    object\n",
      " 19  Health_Concern              381 non-null    object\n",
      " 20  Prompt_Delivery             381 non-null    object\n",
      " 21  Delivery_Experince          381 non-null    object\n",
      " 22  Affordability               381 non-null    object\n",
      " 23  Accessibility               381 non-null    object\n",
      " 24  Time_Importance             381 non-null    object\n",
      " 25  Order_Time                  381 non-null    object\n",
      " 26  Google_Maps_Accuracy        381 non-null    object\n",
      " 27  Influence_of_rating         381 non-null    object\n",
      " 28  Packaging_Quality           381 non-null    object\n",
      " 29  Politeness                  381 non-null    object\n",
      " 30  Freshness                   381 non-null    object\n",
      " 31  Good_Taste_                 381 non-null    object\n",
      " 32  Good_Quantity               381 non-null    object\n",
      " 33  Output                      381 non-null    object\n",
      " 34  Reviews                     381 non-null    object\n",
      "dtypes: int64(3), object(32)\n",
      "memory usage: 107.2+ KB\n"
     ]
    }
   ],
   "source": [
    "Customer_Churn.info()"
   ]
  },
  {
   "cell_type": "code",
   "execution_count": 19,
   "id": "82ac9b08",
   "metadata": {},
   "outputs": [
    {
     "data": {
      "text/html": [
       "<div>\n",
       "<style scoped>\n",
       "    .dataframe tbody tr th:only-of-type {\n",
       "        vertical-align: middle;\n",
       "    }\n",
       "\n",
       "    .dataframe tbody tr th {\n",
       "        vertical-align: top;\n",
       "    }\n",
       "\n",
       "    .dataframe thead th {\n",
       "        text-align: right;\n",
       "    }\n",
       "</style>\n",
       "<table border=\"1\" class=\"dataframe\">\n",
       "  <thead>\n",
       "    <tr style=\"text-align: right;\">\n",
       "      <th></th>\n",
       "      <th>Age</th>\n",
       "      <th>Gender</th>\n",
       "      <th>Marital_Status</th>\n",
       "      <th>Occupation</th>\n",
       "      <th>Monthly_Income</th>\n",
       "      <th>Educational_Qualifications</th>\n",
       "      <th>Family_size</th>\n",
       "      <th>Location</th>\n",
       "      <th>Medium</th>\n",
       "      <th>Oatmeal-1kg</th>\n",
       "      <th>...</th>\n",
       "      <th>Order_Time</th>\n",
       "      <th>Google_Maps_Accuracy</th>\n",
       "      <th>Influence_of_rating</th>\n",
       "      <th>Packaging_Quality</th>\n",
       "      <th>Politeness</th>\n",
       "      <th>Freshness</th>\n",
       "      <th>Good_Taste_</th>\n",
       "      <th>Good_Quantity</th>\n",
       "      <th>Output</th>\n",
       "      <th>Reviews</th>\n",
       "    </tr>\n",
       "  </thead>\n",
       "  <tbody>\n",
       "    <tr>\n",
       "      <th>0</th>\n",
       "      <td>20</td>\n",
       "      <td>Female</td>\n",
       "      <td>Married</td>\n",
       "      <td>Employeed</td>\n",
       "      <td>3</td>\n",
       "      <td>Post Graduate</td>\n",
       "      <td>4</td>\n",
       "      <td>Lagos</td>\n",
       "      <td>Supermarkets</td>\n",
       "      <td>Yes</td>\n",
       "      <td>...</td>\n",
       "      <td>Weekend (Sat &amp; Sun)</td>\n",
       "      <td>Neutral</td>\n",
       "      <td>Yes</td>\n",
       "      <td>Moderately Important</td>\n",
       "      <td>Moderately Important</td>\n",
       "      <td>Moderately Important</td>\n",
       "      <td>Moderately Important</td>\n",
       "      <td>Moderately Important</td>\n",
       "      <td>Yes</td>\n",
       "      <td>Nil\\r\\n</td>\n",
       "    </tr>\n",
       "    <tr>\n",
       "      <th>1</th>\n",
       "      <td>24</td>\n",
       "      <td>Female</td>\n",
       "      <td>Married</td>\n",
       "      <td>Employeed</td>\n",
       "      <td>3</td>\n",
       "      <td>Graduate</td>\n",
       "      <td>3</td>\n",
       "      <td>Lagos</td>\n",
       "      <td>Supermarkets</td>\n",
       "      <td>Yes</td>\n",
       "      <td>...</td>\n",
       "      <td>Anytime (Mon-Sun)</td>\n",
       "      <td>Neutral</td>\n",
       "      <td>Yes</td>\n",
       "      <td>Very Important</td>\n",
       "      <td>Very Important</td>\n",
       "      <td>Very Important</td>\n",
       "      <td>Very Important</td>\n",
       "      <td>Very Important</td>\n",
       "      <td>Yes</td>\n",
       "      <td>Nil</td>\n",
       "    </tr>\n",
       "    <tr>\n",
       "      <th>2</th>\n",
       "      <td>22</td>\n",
       "      <td>Male</td>\n",
       "      <td>Married</td>\n",
       "      <td>Employeed</td>\n",
       "      <td>3</td>\n",
       "      <td>Post Graduate</td>\n",
       "      <td>3</td>\n",
       "      <td>Lagos</td>\n",
       "      <td>Supermarkets</td>\n",
       "      <td>Yes</td>\n",
       "      <td>...</td>\n",
       "      <td>Anytime (Mon-Sun)</td>\n",
       "      <td>Strongly Agree</td>\n",
       "      <td>Yes</td>\n",
       "      <td>Very Important</td>\n",
       "      <td>Very Important</td>\n",
       "      <td>Very Important</td>\n",
       "      <td>Very Important</td>\n",
       "      <td>Moderately Important</td>\n",
       "      <td>Yes</td>\n",
       "      <td>Many a times payment gateways are an issue, so...</td>\n",
       "    </tr>\n",
       "    <tr>\n",
       "      <th>3</th>\n",
       "      <td>22</td>\n",
       "      <td>Female</td>\n",
       "      <td>Married</td>\n",
       "      <td>Employeed</td>\n",
       "      <td>3</td>\n",
       "      <td>Graduate</td>\n",
       "      <td>6</td>\n",
       "      <td>Lagos</td>\n",
       "      <td>Supermarkets</td>\n",
       "      <td>Yes</td>\n",
       "      <td>...</td>\n",
       "      <td>Anytime (Mon-Sun)</td>\n",
       "      <td>Agree</td>\n",
       "      <td>Yes</td>\n",
       "      <td>Important</td>\n",
       "      <td>Very Important</td>\n",
       "      <td>Very Important</td>\n",
       "      <td>Very Important</td>\n",
       "      <td>Important</td>\n",
       "      <td>Yes</td>\n",
       "      <td>nil</td>\n",
       "    </tr>\n",
       "    <tr>\n",
       "      <th>4</th>\n",
       "      <td>22</td>\n",
       "      <td>Male</td>\n",
       "      <td>Married</td>\n",
       "      <td>Employeed</td>\n",
       "      <td>3</td>\n",
       "      <td>Post Graduate</td>\n",
       "      <td>4</td>\n",
       "      <td>Lagos</td>\n",
       "      <td>Direct call</td>\n",
       "      <td>Yes</td>\n",
       "      <td>...</td>\n",
       "      <td>Weekend (Sat &amp; Sun)</td>\n",
       "      <td>Agree</td>\n",
       "      <td>Yes</td>\n",
       "      <td>Important</td>\n",
       "      <td>Important</td>\n",
       "      <td>Important</td>\n",
       "      <td>Very Important</td>\n",
       "      <td>Very Important</td>\n",
       "      <td>Yes</td>\n",
       "      <td>NIL</td>\n",
       "    </tr>\n",
       "    <tr>\n",
       "      <th>5</th>\n",
       "      <td>27</td>\n",
       "      <td>Female</td>\n",
       "      <td>Married</td>\n",
       "      <td>Employeed</td>\n",
       "      <td>3</td>\n",
       "      <td>Post Graduate</td>\n",
       "      <td>2</td>\n",
       "      <td>Lagos</td>\n",
       "      <td>Supermarkets</td>\n",
       "      <td>No</td>\n",
       "      <td>...</td>\n",
       "      <td>Anytime (Mon-Sun)</td>\n",
       "      <td>Agree</td>\n",
       "      <td>Yes</td>\n",
       "      <td>Very Important</td>\n",
       "      <td>Very Important</td>\n",
       "      <td>Very Important</td>\n",
       "      <td>Very Important</td>\n",
       "      <td>Very Important</td>\n",
       "      <td>Yes</td>\n",
       "      <td>NIL</td>\n",
       "    </tr>\n",
       "    <tr>\n",
       "      <th>6</th>\n",
       "      <td>22</td>\n",
       "      <td>Male</td>\n",
       "      <td>Married</td>\n",
       "      <td>Employeed</td>\n",
       "      <td>3</td>\n",
       "      <td>Graduate</td>\n",
       "      <td>3</td>\n",
       "      <td>Lagos</td>\n",
       "      <td>Supermarkets</td>\n",
       "      <td>Yes</td>\n",
       "      <td>...</td>\n",
       "      <td>Anytime (Mon-Sun)</td>\n",
       "      <td>Strongly Agree</td>\n",
       "      <td>Yes</td>\n",
       "      <td>Very Important</td>\n",
       "      <td>Important</td>\n",
       "      <td>Very Important</td>\n",
       "      <td>Very Important</td>\n",
       "      <td>Very Important</td>\n",
       "      <td>Yes</td>\n",
       "      <td>Nil</td>\n",
       "    </tr>\n",
       "    <tr>\n",
       "      <th>7</th>\n",
       "      <td>24</td>\n",
       "      <td>Female</td>\n",
       "      <td>Married</td>\n",
       "      <td>Employeed</td>\n",
       "      <td>3</td>\n",
       "      <td>Post Graduate</td>\n",
       "      <td>3</td>\n",
       "      <td>Lagos</td>\n",
       "      <td>Supermarkets</td>\n",
       "      <td>Yes</td>\n",
       "      <td>...</td>\n",
       "      <td>Weekend (Sat &amp; Sun)</td>\n",
       "      <td>Agree</td>\n",
       "      <td>Maybe</td>\n",
       "      <td>Important</td>\n",
       "      <td>Slightly Important</td>\n",
       "      <td>Important</td>\n",
       "      <td>Very Important</td>\n",
       "      <td>Very Important</td>\n",
       "      <td>Yes</td>\n",
       "      <td>NIL</td>\n",
       "    </tr>\n",
       "    <tr>\n",
       "      <th>8</th>\n",
       "      <td>23</td>\n",
       "      <td>Female</td>\n",
       "      <td>Married</td>\n",
       "      <td>Employeed</td>\n",
       "      <td>3</td>\n",
       "      <td>Post Graduate</td>\n",
       "      <td>2</td>\n",
       "      <td>Lagos</td>\n",
       "      <td>Supermarkets</td>\n",
       "      <td>Yes</td>\n",
       "      <td>...</td>\n",
       "      <td>Anytime (Mon-Sun)</td>\n",
       "      <td>Disagree</td>\n",
       "      <td>Maybe</td>\n",
       "      <td>Important</td>\n",
       "      <td>Important</td>\n",
       "      <td>Important</td>\n",
       "      <td>Important</td>\n",
       "      <td>Important</td>\n",
       "      <td>Yes</td>\n",
       "      <td>Nil</td>\n",
       "    </tr>\n",
       "    <tr>\n",
       "      <th>9</th>\n",
       "      <td>23</td>\n",
       "      <td>Female</td>\n",
       "      <td>Married</td>\n",
       "      <td>Employeed</td>\n",
       "      <td>3</td>\n",
       "      <td>Post Graduate</td>\n",
       "      <td>4</td>\n",
       "      <td>Lagos</td>\n",
       "      <td>Supermarkets</td>\n",
       "      <td>Yes</td>\n",
       "      <td>...</td>\n",
       "      <td>Weekend (Sat &amp; Sun)</td>\n",
       "      <td>Agree</td>\n",
       "      <td>Yes</td>\n",
       "      <td>Very Important</td>\n",
       "      <td>Moderately Important</td>\n",
       "      <td>Moderately Important</td>\n",
       "      <td>Very Important</td>\n",
       "      <td>Very Important</td>\n",
       "      <td>Yes</td>\n",
       "      <td>Nil</td>\n",
       "    </tr>\n",
       "  </tbody>\n",
       "</table>\n",
       "<p>10 rows × 35 columns</p>\n",
       "</div>"
      ],
      "text/plain": [
       "   Age  Gender Marital_Status Occupation  Monthly_Income  \\\n",
       "0   20  Female        Married  Employeed               3   \n",
       "1   24  Female        Married  Employeed               3   \n",
       "2   22    Male        Married  Employeed               3   \n",
       "3   22  Female        Married  Employeed               3   \n",
       "4   22    Male        Married  Employeed               3   \n",
       "5   27  Female        Married  Employeed               3   \n",
       "6   22    Male        Married  Employeed               3   \n",
       "7   24  Female        Married  Employeed               3   \n",
       "8   23  Female        Married  Employeed               3   \n",
       "9   23  Female        Married  Employeed               3   \n",
       "\n",
       "  Educational_Qualifications  Family_size Location        Medium Oatmeal-1kg  \\\n",
       "0              Post Graduate            4    Lagos  Supermarkets         Yes   \n",
       "1                   Graduate            3    Lagos  Supermarkets         Yes   \n",
       "2              Post Graduate            3    Lagos  Supermarkets         Yes   \n",
       "3                   Graduate            6    Lagos  Supermarkets         Yes   \n",
       "4              Post Graduate            4    Lagos   Direct call         Yes   \n",
       "5              Post Graduate            2    Lagos  Supermarkets          No   \n",
       "6                   Graduate            3    Lagos  Supermarkets         Yes   \n",
       "7              Post Graduate            3    Lagos  Supermarkets         Yes   \n",
       "8              Post Graduate            2    Lagos  Supermarkets         Yes   \n",
       "9              Post Graduate            4    Lagos  Supermarkets         Yes   \n",
       "\n",
       "   ...           Order_Time Google_Maps_Accuracy Influence_of_rating  \\\n",
       "0  ...  Weekend (Sat & Sun)              Neutral                 Yes   \n",
       "1  ...    Anytime (Mon-Sun)              Neutral                 Yes   \n",
       "2  ...    Anytime (Mon-Sun)       Strongly Agree                 Yes   \n",
       "3  ...    Anytime (Mon-Sun)                Agree                 Yes   \n",
       "4  ...  Weekend (Sat & Sun)                Agree                 Yes   \n",
       "5  ...    Anytime (Mon-Sun)                Agree                 Yes   \n",
       "6  ...    Anytime (Mon-Sun)       Strongly Agree                 Yes   \n",
       "7  ...  Weekend (Sat & Sun)                Agree               Maybe   \n",
       "8  ...    Anytime (Mon-Sun)             Disagree               Maybe   \n",
       "9  ...  Weekend (Sat & Sun)                Agree                 Yes   \n",
       "\n",
       "      Packaging_Quality            Politeness             Freshness  \\\n",
       "0  Moderately Important  Moderately Important  Moderately Important   \n",
       "1        Very Important        Very Important        Very Important   \n",
       "2        Very Important        Very Important        Very Important   \n",
       "3             Important        Very Important        Very Important   \n",
       "4             Important             Important             Important   \n",
       "5        Very Important        Very Important        Very Important   \n",
       "6        Very Important             Important        Very Important   \n",
       "7             Important    Slightly Important             Important   \n",
       "8             Important             Important             Important   \n",
       "9        Very Important  Moderately Important  Moderately Important   \n",
       "\n",
       "            Good_Taste_         Good_Quantity Output  \\\n",
       "0  Moderately Important  Moderately Important    Yes   \n",
       "1        Very Important        Very Important    Yes   \n",
       "2        Very Important  Moderately Important    Yes   \n",
       "3        Very Important             Important    Yes   \n",
       "4        Very Important        Very Important    Yes   \n",
       "5        Very Important        Very Important    Yes   \n",
       "6        Very Important        Very Important    Yes   \n",
       "7        Very Important        Very Important    Yes   \n",
       "8             Important             Important    Yes   \n",
       "9        Very Important        Very Important    Yes   \n",
       "\n",
       "                                             Reviews  \n",
       "0                                            Nil\\r\\n  \n",
       "1                                                Nil  \n",
       "2  Many a times payment gateways are an issue, so...  \n",
       "3                                                nil  \n",
       "4                                                NIL  \n",
       "5                                                NIL  \n",
       "6                                                Nil  \n",
       "7                                                NIL  \n",
       "8                                                Nil  \n",
       "9                                                Nil  \n",
       "\n",
       "[10 rows x 35 columns]"
      ]
     },
     "execution_count": 19,
     "metadata": {},
     "output_type": "execute_result"
    }
   ],
   "source": [
    "#more sanity check\n",
    "Customer_Churn.head(10)"
   ]
  },
  {
   "cell_type": "code",
   "execution_count": 20,
   "id": "ce348b3a",
   "metadata": {},
   "outputs": [
    {
     "data": {
      "text/html": [
       "<div>\n",
       "<style scoped>\n",
       "    .dataframe tbody tr th:only-of-type {\n",
       "        vertical-align: middle;\n",
       "    }\n",
       "\n",
       "    .dataframe tbody tr th {\n",
       "        vertical-align: top;\n",
       "    }\n",
       "\n",
       "    .dataframe thead th {\n",
       "        text-align: right;\n",
       "    }\n",
       "</style>\n",
       "<table border=\"1\" class=\"dataframe\">\n",
       "  <thead>\n",
       "    <tr style=\"text-align: right;\">\n",
       "      <th></th>\n",
       "      <th>Age</th>\n",
       "      <th>Gender</th>\n",
       "      <th>Marital_Status</th>\n",
       "      <th>Occupation</th>\n",
       "      <th>Monthly_Income</th>\n",
       "      <th>Educational_Qualifications</th>\n",
       "      <th>Family_size</th>\n",
       "      <th>Location</th>\n",
       "      <th>Medium</th>\n",
       "      <th>Oatmeal-1kg</th>\n",
       "      <th>...</th>\n",
       "      <th>Order_Time</th>\n",
       "      <th>Google_Maps_Accuracy</th>\n",
       "      <th>Influence_of_rating</th>\n",
       "      <th>Packaging_Quality</th>\n",
       "      <th>Politeness</th>\n",
       "      <th>Freshness</th>\n",
       "      <th>Good_Taste_</th>\n",
       "      <th>Good_Quantity</th>\n",
       "      <th>Output</th>\n",
       "      <th>Reviews</th>\n",
       "    </tr>\n",
       "  </thead>\n",
       "  <tbody>\n",
       "    <tr>\n",
       "      <th>378</th>\n",
       "      <td>23</td>\n",
       "      <td>Female</td>\n",
       "      <td>Single</td>\n",
       "      <td>Employee</td>\n",
       "      <td>1</td>\n",
       "      <td>Post Graduate</td>\n",
       "      <td>2</td>\n",
       "      <td>Binin</td>\n",
       "      <td>Jumia</td>\n",
       "      <td>Yes</td>\n",
       "      <td>...</td>\n",
       "      <td>Anytime (Mon-Sun)</td>\n",
       "      <td>Strongly Agree</td>\n",
       "      <td>Yes</td>\n",
       "      <td>Moderately Important</td>\n",
       "      <td>Important</td>\n",
       "      <td>Important</td>\n",
       "      <td>Very Important</td>\n",
       "      <td>Very Important</td>\n",
       "      <td>Yes</td>\n",
       "      <td>My location is pretty well built for food deli...</td>\n",
       "    </tr>\n",
       "    <tr>\n",
       "      <th>379</th>\n",
       "      <td>22</td>\n",
       "      <td>Male</td>\n",
       "      <td>Single</td>\n",
       "      <td>Student</td>\n",
       "      <td>0</td>\n",
       "      <td>Post Graduate</td>\n",
       "      <td>4</td>\n",
       "      <td>Warri</td>\n",
       "      <td>Jumia</td>\n",
       "      <td>Yes</td>\n",
       "      <td>...</td>\n",
       "      <td>Weekend (Sat &amp; Sun)</td>\n",
       "      <td>Agree</td>\n",
       "      <td>Yes</td>\n",
       "      <td>Important</td>\n",
       "      <td>Important</td>\n",
       "      <td>Important</td>\n",
       "      <td>Very Important</td>\n",
       "      <td>Very Important</td>\n",
       "      <td>Yes</td>\n",
       "      <td>NIL</td>\n",
       "    </tr>\n",
       "    <tr>\n",
       "      <th>380</th>\n",
       "      <td>27</td>\n",
       "      <td>Female</td>\n",
       "      <td>Married</td>\n",
       "      <td>Employee</td>\n",
       "      <td>3</td>\n",
       "      <td>Post Graduate</td>\n",
       "      <td>2</td>\n",
       "      <td>Warri</td>\n",
       "      <td>Jumia</td>\n",
       "      <td>Yes</td>\n",
       "      <td>...</td>\n",
       "      <td>Anytime (Mon-Sun)</td>\n",
       "      <td>Agree</td>\n",
       "      <td>Yes</td>\n",
       "      <td>Very Important</td>\n",
       "      <td>Very Important</td>\n",
       "      <td>Very Important</td>\n",
       "      <td>Very Important</td>\n",
       "      <td>Very Important</td>\n",
       "      <td>Yes</td>\n",
       "      <td>NIL</td>\n",
       "    </tr>\n",
       "    <tr>\n",
       "      <th>381</th>\n",
       "      <td>22</td>\n",
       "      <td>Male</td>\n",
       "      <td>Single</td>\n",
       "      <td>Student</td>\n",
       "      <td>0</td>\n",
       "      <td>Graduate</td>\n",
       "      <td>3</td>\n",
       "      <td>Sapele</td>\n",
       "      <td>Jumia</td>\n",
       "      <td>Yes</td>\n",
       "      <td>...</td>\n",
       "      <td>Anytime (Mon-Sun)</td>\n",
       "      <td>Strongly Agree</td>\n",
       "      <td>Yes</td>\n",
       "      <td>Very Important</td>\n",
       "      <td>Important</td>\n",
       "      <td>Very Important</td>\n",
       "      <td>Very Important</td>\n",
       "      <td>Very Important</td>\n",
       "      <td>Yes</td>\n",
       "      <td>Nil</td>\n",
       "    </tr>\n",
       "    <tr>\n",
       "      <th>382</th>\n",
       "      <td>24</td>\n",
       "      <td>Female</td>\n",
       "      <td>Single</td>\n",
       "      <td>Student</td>\n",
       "      <td>0</td>\n",
       "      <td>Post Graduate</td>\n",
       "      <td>3</td>\n",
       "      <td>Sapele</td>\n",
       "      <td>Jumia</td>\n",
       "      <td>Yes</td>\n",
       "      <td>...</td>\n",
       "      <td>Weekend (Sat &amp; Sun)</td>\n",
       "      <td>Agree</td>\n",
       "      <td>Maybe</td>\n",
       "      <td>Important</td>\n",
       "      <td>Slightly Important</td>\n",
       "      <td>Important</td>\n",
       "      <td>Very Important</td>\n",
       "      <td>Very Important</td>\n",
       "      <td>Yes</td>\n",
       "      <td>NIL</td>\n",
       "    </tr>\n",
       "    <tr>\n",
       "      <th>383</th>\n",
       "      <td>23</td>\n",
       "      <td>Female</td>\n",
       "      <td>Single</td>\n",
       "      <td>Student</td>\n",
       "      <td>0</td>\n",
       "      <td>Post Graduate</td>\n",
       "      <td>2</td>\n",
       "      <td>Sapele</td>\n",
       "      <td>Jumia</td>\n",
       "      <td>Yes</td>\n",
       "      <td>...</td>\n",
       "      <td>Anytime (Mon-Sun)</td>\n",
       "      <td>Disagree</td>\n",
       "      <td>Maybe</td>\n",
       "      <td>Important</td>\n",
       "      <td>Important</td>\n",
       "      <td>Important</td>\n",
       "      <td>Important</td>\n",
       "      <td>Important</td>\n",
       "      <td>Yes</td>\n",
       "      <td>Nil</td>\n",
       "    </tr>\n",
       "    <tr>\n",
       "      <th>384</th>\n",
       "      <td>23</td>\n",
       "      <td>Female</td>\n",
       "      <td>Single</td>\n",
       "      <td>Student</td>\n",
       "      <td>0</td>\n",
       "      <td>Post Graduate</td>\n",
       "      <td>4</td>\n",
       "      <td>Sapele</td>\n",
       "      <td>Jumia</td>\n",
       "      <td>Yes</td>\n",
       "      <td>...</td>\n",
       "      <td>Weekend (Sat &amp; Sun)</td>\n",
       "      <td>Agree</td>\n",
       "      <td>Yes</td>\n",
       "      <td>Very Important</td>\n",
       "      <td>Moderately Important</td>\n",
       "      <td>Moderately Important</td>\n",
       "      <td>Very Important</td>\n",
       "      <td>Very Important</td>\n",
       "      <td>Yes</td>\n",
       "      <td>Nil</td>\n",
       "    </tr>\n",
       "    <tr>\n",
       "      <th>385</th>\n",
       "      <td>22</td>\n",
       "      <td>Female</td>\n",
       "      <td>Single</td>\n",
       "      <td>Student</td>\n",
       "      <td>0</td>\n",
       "      <td>Post Graduate</td>\n",
       "      <td>5</td>\n",
       "      <td>Enugu</td>\n",
       "      <td>Jumia</td>\n",
       "      <td>Yes</td>\n",
       "      <td>...</td>\n",
       "      <td>Anytime (Mon-Sun)</td>\n",
       "      <td>Agree</td>\n",
       "      <td>Yes</td>\n",
       "      <td>Very Important</td>\n",
       "      <td>Important</td>\n",
       "      <td>Very Important</td>\n",
       "      <td>Very Important</td>\n",
       "      <td>Very Important</td>\n",
       "      <td>Yes</td>\n",
       "      <td>Nil</td>\n",
       "    </tr>\n",
       "    <tr>\n",
       "      <th>386</th>\n",
       "      <td>23</td>\n",
       "      <td>Male</td>\n",
       "      <td>Single</td>\n",
       "      <td>Student</td>\n",
       "      <td>0</td>\n",
       "      <td>Post Graduate</td>\n",
       "      <td>2</td>\n",
       "      <td>Enugu</td>\n",
       "      <td>Supermarkets</td>\n",
       "      <td>Yes</td>\n",
       "      <td>...</td>\n",
       "      <td>Weekend (Sat &amp; Sun)</td>\n",
       "      <td>Disagree</td>\n",
       "      <td>Yes</td>\n",
       "      <td>Very Important</td>\n",
       "      <td>Very Important</td>\n",
       "      <td>Very Important</td>\n",
       "      <td>Very Important</td>\n",
       "      <td>Very Important</td>\n",
       "      <td>Yes</td>\n",
       "      <td>Language barrier is also one major issue. Mosl...</td>\n",
       "    </tr>\n",
       "    <tr>\n",
       "      <th>387</th>\n",
       "      <td>23</td>\n",
       "      <td>Male</td>\n",
       "      <td>Single</td>\n",
       "      <td>Student</td>\n",
       "      <td>0</td>\n",
       "      <td>Post Graduate</td>\n",
       "      <td>5</td>\n",
       "      <td>Enugu</td>\n",
       "      <td>Direct call</td>\n",
       "      <td>Yes</td>\n",
       "      <td>...</td>\n",
       "      <td>Weekend (Sat &amp; Sun)</td>\n",
       "      <td>Agree</td>\n",
       "      <td>Maybe</td>\n",
       "      <td>Unimportant</td>\n",
       "      <td>Moderately Important</td>\n",
       "      <td>Moderately Important</td>\n",
       "      <td>Moderately Important</td>\n",
       "      <td>Slightly Important</td>\n",
       "      <td>Yes</td>\n",
       "      <td>Nil</td>\n",
       "    </tr>\n",
       "  </tbody>\n",
       "</table>\n",
       "<p>10 rows × 35 columns</p>\n",
       "</div>"
      ],
      "text/plain": [
       "     Age  Gender Marital_Status Occupation  Monthly_Income  \\\n",
       "378   23  Female         Single   Employee               1   \n",
       "379   22    Male         Single    Student               0   \n",
       "380   27  Female        Married   Employee               3   \n",
       "381   22    Male         Single    Student               0   \n",
       "382   24  Female         Single    Student               0   \n",
       "383   23  Female         Single    Student               0   \n",
       "384   23  Female         Single    Student               0   \n",
       "385   22  Female         Single    Student               0   \n",
       "386   23    Male         Single    Student               0   \n",
       "387   23    Male         Single    Student               0   \n",
       "\n",
       "    Educational_Qualifications  Family_size Location        Medium  \\\n",
       "378              Post Graduate            2    Binin         Jumia   \n",
       "379              Post Graduate            4    Warri         Jumia   \n",
       "380              Post Graduate            2    Warri         Jumia   \n",
       "381                   Graduate            3   Sapele         Jumia   \n",
       "382              Post Graduate            3   Sapele         Jumia   \n",
       "383              Post Graduate            2   Sapele         Jumia   \n",
       "384              Post Graduate            4   Sapele         Jumia   \n",
       "385              Post Graduate            5    Enugu         Jumia   \n",
       "386              Post Graduate            2    Enugu  Supermarkets   \n",
       "387              Post Graduate            5    Enugu   Direct call   \n",
       "\n",
       "    Oatmeal-1kg  ...           Order_Time Google_Maps_Accuracy  \\\n",
       "378         Yes  ...    Anytime (Mon-Sun)       Strongly Agree   \n",
       "379         Yes  ...  Weekend (Sat & Sun)                Agree   \n",
       "380         Yes  ...    Anytime (Mon-Sun)                Agree   \n",
       "381         Yes  ...    Anytime (Mon-Sun)       Strongly Agree   \n",
       "382         Yes  ...  Weekend (Sat & Sun)                Agree   \n",
       "383         Yes  ...    Anytime (Mon-Sun)             Disagree   \n",
       "384         Yes  ...  Weekend (Sat & Sun)                Agree   \n",
       "385         Yes  ...    Anytime (Mon-Sun)                Agree   \n",
       "386         Yes  ...  Weekend (Sat & Sun)             Disagree   \n",
       "387         Yes  ...  Weekend (Sat & Sun)                Agree   \n",
       "\n",
       "    Influence_of_rating     Packaging_Quality            Politeness  \\\n",
       "378                 Yes  Moderately Important             Important   \n",
       "379                 Yes             Important             Important   \n",
       "380                 Yes        Very Important        Very Important   \n",
       "381                 Yes        Very Important             Important   \n",
       "382               Maybe             Important    Slightly Important   \n",
       "383               Maybe             Important             Important   \n",
       "384                 Yes        Very Important  Moderately Important   \n",
       "385                 Yes        Very Important             Important   \n",
       "386                 Yes        Very Important        Very Important   \n",
       "387               Maybe           Unimportant  Moderately Important   \n",
       "\n",
       "                Freshness           Good_Taste_       Good_Quantity Output  \\\n",
       "378             Important        Very Important      Very Important    Yes   \n",
       "379             Important        Very Important      Very Important    Yes   \n",
       "380        Very Important        Very Important      Very Important    Yes   \n",
       "381        Very Important        Very Important      Very Important    Yes   \n",
       "382             Important        Very Important      Very Important    Yes   \n",
       "383             Important             Important           Important    Yes   \n",
       "384  Moderately Important        Very Important      Very Important    Yes   \n",
       "385        Very Important        Very Important      Very Important    Yes   \n",
       "386        Very Important        Very Important      Very Important    Yes   \n",
       "387  Moderately Important  Moderately Important  Slightly Important    Yes   \n",
       "\n",
       "                                               Reviews  \n",
       "378  My location is pretty well built for food deli...  \n",
       "379                                                NIL  \n",
       "380                                                NIL  \n",
       "381                                                Nil  \n",
       "382                                                NIL  \n",
       "383                                                Nil  \n",
       "384                                                Nil  \n",
       "385                                                Nil  \n",
       "386  Language barrier is also one major issue. Mosl...  \n",
       "387                                                Nil  \n",
       "\n",
       "[10 rows x 35 columns]"
      ]
     },
     "execution_count": 20,
     "metadata": {},
     "output_type": "execute_result"
    }
   ],
   "source": [
    "Customer_Churn.tail(10)"
   ]
  },
  {
   "cell_type": "code",
   "execution_count": 21,
   "id": "9a4df5d8",
   "metadata": {},
   "outputs": [],
   "source": [
    "\n",
    "# Convert 'yes' to 'Yes' and 'no' to 'No' in all columns\n",
    "Customer_Churn = Customer_Churn.apply(lambda x: x.str.capitalize() if x.dtype == \"object\" else x)"
   ]
  },
  {
   "cell_type": "code",
   "execution_count": 22,
   "id": "bbd1c828",
   "metadata": {},
   "outputs": [
    {
     "data": {
      "text/plain": [
       "Age                           0\n",
       "Gender                        0\n",
       "Marital_Status                0\n",
       "Occupation                    0\n",
       "Monthly_Income                0\n",
       "Educational_Qualifications    0\n",
       "Family_size                   0\n",
       "Location                      0\n",
       "Medium                        0\n",
       "Oatmeal-1kg                   0\n",
       "Oatmeal-2kg                   0\n",
       "Oatmeal-5kg                   0\n",
       "Fonio-1kg                     0\n",
       "Garri-1kg                     0\n",
       "Plantain_Chips_-1kg           0\n",
       "Buying_Convenience            0\n",
       "Easy_Payment_option           0\n",
       "Discount_Opinons              0\n",
       "Product_Quality               0\n",
       "Health_Concern                0\n",
       "Prompt_Delivery               0\n",
       "Delivery_Experince            0\n",
       "Affordability                 0\n",
       "Accessibility                 0\n",
       "Time_Importance               0\n",
       "Order_Time                    0\n",
       "Google_Maps_Accuracy          0\n",
       "Influence_of_rating           0\n",
       "Packaging_Quality             0\n",
       "Politeness                    0\n",
       "Freshness                     0\n",
       "Good_Taste_                   0\n",
       "Good_Quantity                 0\n",
       "Output                        0\n",
       "Reviews                       0\n",
       "dtype: int64"
      ]
     },
     "execution_count": 22,
     "metadata": {},
     "output_type": "execute_result"
    }
   ],
   "source": [
    "Customer_Churn.isna().sum()"
   ]
  },
  {
   "cell_type": "code",
   "execution_count": 23,
   "id": "101dadf8",
   "metadata": {},
   "outputs": [
    {
     "data": {
      "text/plain": [
       "0"
      ]
     },
     "execution_count": 23,
     "metadata": {},
     "output_type": "execute_result"
    }
   ],
   "source": [
    "Customer_Churn.duplicated().sum()"
   ]
  },
  {
   "cell_type": "markdown",
   "id": "e1a6f3c9",
   "metadata": {},
   "source": [
    "- The dataset is clean and ready to be used for further use.\n",
    "- The next step will be visualization"
   ]
  },
  {
   "cell_type": "markdown",
   "id": "06fae54b",
   "metadata": {},
   "source": [
    "#### Visualization"
   ]
  },
  {
   "cell_type": "markdown",
   "id": "7a5073c1",
   "metadata": {},
   "source": [
    "#### Perform Univariate visualization on the Numerical variables\n",
    "##### Age"
   ]
  },
  {
   "cell_type": "code",
   "execution_count": 24,
   "id": "696cd694",
   "metadata": {},
   "outputs": [
    {
     "data": {
      "image/png": "[encoded data removed]",
      "text/plain": [
       "<Figure size 640x480 with 1 Axes>"
      ]
     },
     "metadata": {},
     "output_type": "display_data"
    }
   ],
   "source": [
    "# Visualizing the 'Age' column\n",
    "sns.boxplot(data=Customer_Churn, x='Age')\n",
    "# Show the plot\n",
    "plt.show()"
   ]
  },
  {
   "cell_type": "markdown",
   "id": "0b124bed",
   "metadata": {},
   "source": [
    "- Outliers were dictated in both left and whisker. However more outliers occured in the right whisker between the agen range of 30+ and above"
   ]
  },
  {
   "cell_type": "code",
   "execution_count": 25,
   "id": "87139d66",
   "metadata": {},
   "outputs": [
    {
     "data": {
      "image/png": "[encoded data removed]",
      "text/plain": [
       "<Figure size 640x480 with 1 Axes>"
      ]
     },
     "metadata": {},
     "output_type": "display_data"
    }
   ],
   "source": [
    "# Create a histogram with KDE\n",
    "sns.histplot(data=Customer_Churn, x='Age', kde=True)\n",
    "# Set labels and title\n",
    "plt.xlabel('Age')\n",
    "plt.ylabel('Frequency')\n",
    "plt.title('Distribution of Age')\n",
    "# Show the plot\n",
    "plt.show()"
   ]
  },
  {
   "cell_type": "markdown",
   "id": "c3999957",
   "metadata": {},
   "source": [
    "- The distribution is slightly skewed to the right"
   ]
  },
  {
   "cell_type": "markdown",
   "id": "7bd28e44",
   "metadata": {},
   "source": [
    "#### Monthly_Income\n",
    "\n",
    "- To understand this column very well, we need to know that incomes are mapped as <500000 = 0,>100000 = 1,<200000 = 2,>200000 = 3"
   ]
  },
  {
   "cell_type": "code",
   "execution_count": 26,
   "id": "fac8cae6",
   "metadata": {},
   "outputs": [
    {
     "data": {
      "image/png": "[encoded data removed]",
      "text/plain": [
       "<Figure size 640x480 with 1 Axes>"
      ]
     },
     "metadata": {},
     "output_type": "display_data"
    }
   ],
   "source": [
    "# Visualizing the 'Monthly_Income' column\n",
    "sns.boxplot(data=Customer_Churn, x='Monthly_Income')\n",
    "# Show the plot\n",
    "plt.show()"
   ]
  },
  {
   "cell_type": "markdown",
   "id": "f26cbe30",
   "metadata": {},
   "source": [
    "- The visualization did not show any outlier"
   ]
  },
  {
   "cell_type": "code",
   "execution_count": 27,
   "id": "739d8dd1",
   "metadata": {},
   "outputs": [
    {
     "data": {
      "image/png": "[encoded data removed]",
      "text/plain": [
       "<Figure size 640x480 with 1 Axes>"
      ]
     },
     "metadata": {},
     "output_type": "display_data"
    }
   ],
   "source": [
    "# Create a histogram with KDE\n",
    "sns.histplot(data=Customer_Churn, x='Monthly_Income', kde=True)\n",
    "# Set labels and title\n",
    "plt.xlabel('Monthly_Income')\n",
    "plt.ylabel('Frequency')\n",
    "plt.title('Distribution of Monthly_Income')\n",
    "# Show the plot\n",
    "plt.show()"
   ]
  },
  {
   "cell_type": "markdown",
   "id": "b66c81d5",
   "metadata": {},
   "source": [
    "- The distribution is not evenly distributed. It showed that more people earned <50,000 among our customers"
   ]
  },
  {
   "cell_type": "markdown",
   "id": "5fd45fb0",
   "metadata": {},
   "source": [
    "#### Family_size"
   ]
  },
  {
   "cell_type": "code",
   "execution_count": 28,
   "id": "30e3c047",
   "metadata": {},
   "outputs": [
    {
     "data": {
      "image/png": "[encoded data removed]",
      "text/plain": [
       "<Figure size 640x480 with 1 Axes>"
      ]
     },
     "metadata": {},
     "output_type": "display_data"
    }
   ],
   "source": [
    "# Visualizing the 'Monthly_Income' column\n",
    "sns.boxplot(data=Customer_Churn, x='Family_size')\n",
    "# Show the plot\n",
    "plt.show()"
   ]
  },
  {
   "cell_type": "markdown",
   "id": "d5bc4465",
   "metadata": {},
   "source": [
    "- Outlier is detected at the right whisker"
   ]
  },
  {
   "cell_type": "code",
   "execution_count": 29,
   "id": "5963d574",
   "metadata": {},
   "outputs": [
    {
     "data": {
      "image/png": "[encoded data removed]",
      "text/plain": [
       "<Figure size 640x480 with 1 Axes>"
      ]
     },
     "metadata": {},
     "output_type": "display_data"
    }
   ],
   "source": [
    "# Create a histogram with KDE\n",
    "sns.histplot(data=Customer_Churn, x='Family_size', kde=True)\n",
    "# Set labels and title\n",
    "plt.xlabel('Family_size')\n",
    "plt.ylabel('Frequency')\n",
    "plt.title('Distribution of Family_size')\n",
    "# Show the plot\n",
    "plt.show()"
   ]
  },
  {
   "cell_type": "markdown",
   "id": "273ee52c",
   "metadata": {},
   "source": [
    "- The distribution is skewed to the right. We have more families that has the size between 2,3 and 4."
   ]
  },
  {
   "cell_type": "markdown",
   "id": "d466715f",
   "metadata": {},
   "source": [
    "#### Perform Multivariate visualization on the Categorical variables"
   ]
  },
  {
   "cell_type": "code",
   "execution_count": 30,
   "id": "f7543040",
   "metadata": {},
   "outputs": [
    {
     "data": {
      "image/png": "[encoded data removed]",
      "text/plain": [
       "<Figure size 640x480 with 1 Axes>"
      ]
     },
     "metadata": {},
     "output_type": "display_data"
    }
   ],
   "source": [
    "# Create a count plot fro Marital_Status\n",
    "sns.countplot(data=Customer_Churn, x='Marital_Status')\n",
    "# Set labels and title\n",
    "plt.xlabel('Marital Status')\n",
    "plt.ylabel('Count')\n",
    "plt.title('Distribution of Marital Status')\n",
    "\n",
    "# Show the plot\n",
    "plt.show()\n",
    "\n"
   ]
  },
  {
   "cell_type": "markdown",
   "id": "5815a760",
   "metadata": {},
   "source": [
    "- We have more single people as our customers than married people. However we still have a substantial number of customers that are married. People that prefere not to disclose their marital status are less than 25\n"
   ]
  },
  {
   "cell_type": "code",
   "execution_count": 31,
   "id": "bb5dfc59",
   "metadata": {},
   "outputs": [
    {
     "data": {
      "image/png": "[encoded data removed]",
      "text/plain": [
       "<Figure size 640x480 with 1 Axes>"
      ]
     },
     "metadata": {},
     "output_type": "display_data"
    }
   ],
   "source": [
    "# Create a count plot for occupation\n",
    "sns.countplot(data=Customer_Churn, x='Occupation')\n",
    "# Set labels and title\n",
    "plt.xlabel('Occupation')\n",
    "plt.ylabel('Count')\n",
    "plt.title('Distribution of Occupation')\n",
    "\n",
    "# Show the plot\n",
    "plt.show()"
   ]
  },
  {
   "cell_type": "markdown",
   "id": "404ab6c0",
   "metadata": {},
   "source": [
    "- We have more students followed closely by employed. House wife are low among our customers"
   ]
  },
  {
   "cell_type": "code",
   "execution_count": 32,
   "id": "8f56ce62",
   "metadata": {},
   "outputs": [
    {
     "data": {
      "image/png": "[encoded data removed]",
      "text/plain": [
       "<Figure size 640x480 with 1 Axes>"
      ]
     },
     "metadata": {},
     "output_type": "display_data"
    }
   ],
   "source": [
    "# Create a count plot for Educational_Qualifications\n",
    "sns.countplot(data=Customer_Churn, x='Educational_Qualifications')\n",
    "# Set labels and title\n",
    "plt.xlabel('Educational_Qualifications')\n",
    "plt.ylabel('Count')\n",
    "plt.title('Distribution of Educational_Qualifications')\n",
    "\n",
    "# Show the plot\n",
    "plt.show()"
   ]
  },
  {
   "cell_type": "markdown",
   "id": "93a35e7e",
   "metadata": {},
   "source": [
    "- We have more Post Graduate and Graduates as our customers. Uneducated seems to be the least in our list"
   ]
  },
  {
   "cell_type": "code",
   "execution_count": 33,
   "id": "492f52d4",
   "metadata": {},
   "outputs": [
    {
     "data": {
      "image/png": "[encoded data removed]",
      "text/plain": [
       "<Figure size 800x600 with 1 Axes>"
      ]
     },
     "metadata": {},
     "output_type": "display_data"
    }
   ],
   "source": [
    "\n",
    "# Create a count plot for Medium\n",
    "plt.figure(figsize=(8, 6))  # Adjust the figure size as needed\n",
    "sns.countplot(data=Customer_Churn, x='Medium')\n",
    "plt.xticks(rotation=45)  # Rotate the x-axis labels for better readability\n",
    "# Set labels and title\n",
    "plt.xlabel('Medium')\n",
    "plt.ylabel('Count')\n",
    "plt.title('Distribution of Medium')\n",
    "\n",
    "# Show the plot\n",
    "plt.show()\n"
   ]
  },
  {
   "cell_type": "code",
   "execution_count": 34,
   "id": "71b2a418",
   "metadata": {},
   "outputs": [
    {
     "data": {
      "image/png": "[encoded data removed]",
      "text/plain": [
       "<Figure size 800x600 with 1 Axes>"
      ]
     },
     "metadata": {},
     "output_type": "display_data"
    }
   ],
   "source": [
    "\n",
    "# Create a count plot for Location\n",
    "plt.figure(figsize=(8, 6))  # Adjust the figure size as needed\n",
    "sns.countplot(data=Customer_Churn, x='Location')\n",
    "plt.xticks(rotation=45)  # Rotate the x-axis labels for better readability\n",
    "# Set labels and title\n",
    "plt.xlabel('Location')\n",
    "plt.ylabel('Count')\n",
    "plt.title('Distribution of Location')\n",
    "\n",
    "# Show the plot\n",
    "plt.show()"
   ]
  },
  {
   "cell_type": "code",
   "execution_count": 35,
   "id": "53129acc",
   "metadata": {},
   "outputs": [
    {
     "data": {
      "image/png": "[encoded data removed]",
      "text/plain": [
       "<Figure size 800x600 with 1 Axes>"
      ]
     },
     "metadata": {},
     "output_type": "display_data"
    }
   ],
   "source": [
    "# Create a count plot for Oatmeal-1kg\n",
    "plt.figure(figsize=(8, 6))  # Adjust the figure size as needed\n",
    "sns.countplot(data=Customer_Churn, x='Oatmeal-1kg')\n",
    "plt.xticks(rotation=45)  # Rotate the x-axis labels for better readability\n",
    "# Set labels and title\n",
    "plt.xlabel('Oatmeal-1kg')\n",
    "plt.ylabel('Count')\n",
    "plt.title('Distribution of Oatmeal-1kg')\n",
    "\n",
    "# Show the plot\n",
    "plt.show()"
   ]
  },
  {
   "cell_type": "markdown",
   "id": "78ca776c",
   "metadata": {},
   "source": [
    "- Most of our customers buys our 1kg product while less than 25 of our customers don't buy our product"
   ]
  },
  {
   "cell_type": "code",
   "execution_count": 37,
   "id": "ad16436a",
   "metadata": {},
   "outputs": [
    {
     "data": {
      "image/png": "[encoded data removed]",
      "text/plain": [
       "<Figure size 800x600 with 1 Axes>"
      ]
     },
     "metadata": {},
     "output_type": "display_data"
    }
   ],
   "source": [
    "# Create a count plot for Oatmeal 2kg\n",
    "plt.figure(figsize=(8, 6))  # Adjust the figure size as needed\n",
    "sns.countplot(data=Customer_Churn, x='Oatmeal-2kg')\n",
    "plt.xticks(rotation=45)  # Rotate the x-axis labels for better readability\n",
    "# Set labels and title\n",
    "plt.xlabel('Oatmeal-2kg')\n",
    "plt.ylabel('Count')\n",
    "plt.title('Distribution of Oatmeal-2kg')\n",
    "\n",
    "# Show the plot\n",
    "plt.show()"
   ]
  },
  {
   "cell_type": "markdown",
   "id": "0b9bc82f",
   "metadata": {},
   "source": [
    "- Most of our customers also buy our 2kg product but we have more than 30 people that does not buy the product"
   ]
  },
  {
   "cell_type": "code",
   "execution_count": 38,
   "id": "e86a7d8f",
   "metadata": {},
   "outputs": [
    {
     "data": {
      "image/png": "[encoded data removed]",
      "text/plain": [
       "<Figure size 800x600 with 1 Axes>"
      ]
     },
     "metadata": {},
     "output_type": "display_data"
    }
   ],
   "source": [
    "# Create a count plot for Oatmeal 5kg\n",
    "plt.figure(figsize=(8, 6))  # Adjust the figure size as needed\n",
    "sns.countplot(data=Customer_Churn, x='Oatmeal-5kg')\n",
    "plt.xticks(rotation=45)  # Rotate the x-axis labels for better readability\n",
    "# Set labels and title\n",
    "plt.xlabel('Oatmeal-5kg')\n",
    "plt.ylabel('Count')\n",
    "plt.title('Distribution of Oatmeal-5kg')\n",
    "\n",
    "# Show the plot\n",
    "plt.show()"
   ]
  },
  {
   "cell_type": "markdown",
   "id": "55bb8be0",
   "metadata": {},
   "source": [
    "- Most of our customers also buy our 5kg product but we have more than 30 people but less than 50 who does not buy the 5kg  product"
   ]
  },
  {
   "cell_type": "code",
   "execution_count": null,
   "id": "12c6aaa5",
   "metadata": {},
   "outputs": [],
   "source": []
  }
 ],
 "metadata": {
  "kernelspec": {
   "display_name": "Python 3 (ipykernel)",
   "language": "python",
   "name": "python3"
  },
  "language_info": {
   "codemirror_mode": {
    "name": "ipython",
    "version": 3
   },
   "file_extension": ".py",
   "mimetype": "text/x-python",
   "name": "python",
   "nbconvert_exporter": "python",
   "pygments_lexer": "ipython3",
   "version": "3.8.18"
  }
 },
 "nbformat": 4,
 "nbformat_minor": 5
}
